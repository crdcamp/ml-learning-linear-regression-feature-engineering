{
 "cells": [
  {
   "cell_type": "markdown",
   "id": "0b97ba12",
   "metadata": {},
   "source": [
    "# Feature Engineering\n",
    "\n",
    "[Resource](https://feaz-book.com/)\n",
    "\n",
    "During the creation of my first linear regression models, I noticed a serious knowledge gap in the form of feature engineering. After some preparation, a new learning path has been formed, and I will take the time to do a much needed deep dive into feature engineering. This is an intermediary step in the creation of my first legitimate model. Not the most fun topic, but like all others, it's an essential one.\n",
    "\n",
    "Let's begin."
   ]
  }
 ],
 "metadata": {
  "language_info": {
   "name": "python"
  }
 },
 "nbformat": 4,
 "nbformat_minor": 5
}

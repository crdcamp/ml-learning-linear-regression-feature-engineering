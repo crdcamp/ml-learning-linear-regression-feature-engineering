{
 "cells": [
  {
   "cell_type": "markdown",
   "id": "0b97ba12",
   "metadata": {},
   "source": [
    "# Feature Engineering\n",
    "\n",
    "[Resource](https://feaz-book.com/)\n",
    "\n",
    "During the creation of my first linear regression models, I noticed a serious knowledge gap in the form of feature engineering. After some preparation, a new learning path has been formed, and I will take the time to do a much needed deep dive into feature engineering. This is an intermediary step in the creation of my first legitimate model. Not the most fun topic, but like all others, it's an essential one.\n",
    "\n",
    "Before we begin, let's clarify what my resource doesn't cover:\n",
    "* Whole process modeling\n",
    "* Case studies\n",
    "* Deployment details\n",
    "* Domain-specific methods\n",
    "\n",
    "They do, however, mention [this textbook](https://www.oreilly.com/library/view/hands-on-machine-learning/9781492032632/) for diving into whole process modeling. Another can also be found [here](https://books.google.com/books?id=2c_LDwAAQBAJ). Both might be worth a purchase in the future.\n",
    "\n",
    "Finally, all sourcecode can be found [here](https://github.com/EmilHvitfeldt/feature-engineering-az) as well.\n",
    "\n",
    "For now, all we need is this basic overview. Let's begin."
   ]
  },
  {
   "cell_type": "markdown",
   "id": "cebf174b",
   "metadata": {},
   "source": [
    "# Introduction\n",
    "\n",
    "Good news - This resource has numeric and categorical sections! I'll return to this resource after I've thoroughly covered linear regression.\n",
    "\n",
    "## Where does feature engineering fit into the modeling workflow?\n",
    "\n"
   ]
  }
 ],
 "metadata": {
  "kernelspec": {
   "display_name": "feat-env",
   "language": "python",
   "name": "python3"
  },
  "language_info": {
   "name": "python",
   "version": "3.13.9"
  }
 },
 "nbformat": 4,
 "nbformat_minor": 5
}

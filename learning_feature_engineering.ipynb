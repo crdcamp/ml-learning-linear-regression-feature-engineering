{
 "cells": [
  {
   "cell_type": "markdown",
   "id": "0b97ba12",
   "metadata": {},
   "source": [
    "# Feature Engineering\n",
    "\n",
    "[Resource](https://feaz-book.com/)"
   ]
  }
 ],
 "metadata": {
  "language_info": {
   "name": "python"
  }
 },
 "nbformat": 4,
 "nbformat_minor": 5
}

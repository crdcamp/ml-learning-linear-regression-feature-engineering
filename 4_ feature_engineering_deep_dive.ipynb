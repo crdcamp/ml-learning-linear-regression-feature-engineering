{
 "cells": [
  {
   "cell_type": "markdown",
   "id": "ac5253ed",
   "metadata": {},
   "source": [
    "# In-Depth Linear Regression Example\n",
    "\n",
    "[Resource](https://jakevdp.github.io/PythonDataScienceHandbook/05.06-linear-regression.html)"
   ]
  }
 ],
 "metadata": {
  "language_info": {
   "name": "python"
  }
 },
 "nbformat": 4,
 "nbformat_minor": 5
}

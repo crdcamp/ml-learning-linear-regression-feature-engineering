{
 "cells": [
  {
   "cell_type": "markdown",
   "id": "42defaeb",
   "metadata": {},
   "source": [
    "# Transformations and Interactions\n",
    "\n",
    "[Resource](https://online.stat.psu.edu/stat462/node/85/)\n",
    "\n",
    "Now it's time to take a closer look at transformations and interactions using an **absolutely amazing** resource provided by Penn State. Amazing how much free knowledge is out there. Might even be worth doing a full run through this entire resource later.\n",
    "\n",
    "Unfortunately, this resource seems to be strictly for R programming applications, but no matter! If anything, translating these notes into code will only provide more practice for the upcoming lessons.\n",
    "\n",
    "Let's get to it."
   ]
  },
  {
   "cell_type": "markdown",
   "id": "c8bb05fd",
   "metadata": {},
   "source": [
    "## MLR Model Assumptions - LINE\n",
    "\n",
    "These points come from a previous section found [here](https://online.stat.psu.edu/stat462/node/145/).\n",
    "\n",
    "* The mean of the response at each set of values of the predictors is a **Linear function** of the predictors.\n",
    "* The errors are **Independent**.\n",
    "* The errors at each set of values of the predictors are **Normally distributed**.\n",
    "* The errors at each set of values of the predictors have **Equal variances**.\n",
    "\n",
    "An equivalent way to think of the first condition is that the mean of the error at each set of values of the predictors is **zero**. An alternative way to describe all four assumptions is that the errors are independent normal random variables with mean zero and constant variance.\n",
    "\n",
    "We can assess whether these conditions seem to hold for a MLR model applied to a particular sample dataset by looking at the estimated errors, i.e., the residuals (actual - predicted).\n",
    "\n",
    "# Log-transforming Only the Predictor for SLR\n",
    "\n",
    "In this section, we learn how to build and use a simple linear regression model by transforming the predictor *x* values. **Transforming the *x* values is appropriate when non-linearity is the only problem** (i.e., the independence, normality, and equal variance conditions are met). Note, though, that **it may be necessary to correct the non-linearity before you can assess the normality and equal variance assumptions**. Also, while some assumptions may appear to hold prior to applying a transformation, they may no longer hold once a transformation is applied. In other words, using transformations is part of an iterative process where all the linear regression assumptions are re-checked after each iteration.\n",
    "\n",
    "Although this resource is focusing on simple linear regression, these concepts apply to multiple linear regression as well."
   ]
  },
  {
   "cell_type": "markdown",
   "id": "8be84dad",
   "metadata": {},
   "source": [
    "# Building the Model\n",
    "\n",
    "The data we're about to use involves a memory retention experiment in which 13 subjects were asked to memorize a list of disconnected items. The subjects were then asked to recall the items at various times up to a week later. The proportion of items (y = prop) correctly recalled at various times (x = time in minutes) since the list was memorized and were recorded.\n",
    "\n",
    "Recognizing that there is no good reason that the error terms would not be independent, let's evaluate the remaining three conditions - linearity, normality, and equal variances - of the model. \n",
    "\n",
    "The resulting fitted line plot suggests that the proportion of recalled items (y) isn't linearly related to time (x):"
   ]
  },
  {
   "cell_type": "code",
   "execution_count": 15,
   "id": "adbe30bb",
   "metadata": {},
   "outputs": [
    {
     "data": {
      "text/html": [
       "<div>\n",
       "<style scoped>\n",
       "    .dataframe tbody tr th:only-of-type {\n",
       "        vertical-align: middle;\n",
       "    }\n",
       "\n",
       "    .dataframe tbody tr th {\n",
       "        vertical-align: top;\n",
       "    }\n",
       "\n",
       "    .dataframe thead th {\n",
       "        text-align: right;\n",
       "    }\n",
       "</style>\n",
       "<table border=\"1\" class=\"dataframe\">\n",
       "  <thead>\n",
       "    <tr style=\"text-align: right;\">\n",
       "      <th></th>\n",
       "      <th>time</th>\n",
       "      <th>prop</th>\n",
       "    </tr>\n",
       "  </thead>\n",
       "  <tbody>\n",
       "    <tr>\n",
       "      <th>0</th>\n",
       "      <td>1</td>\n",
       "      <td>0.84</td>\n",
       "    </tr>\n",
       "    <tr>\n",
       "      <th>1</th>\n",
       "      <td>5</td>\n",
       "      <td>0.71</td>\n",
       "    </tr>\n",
       "    <tr>\n",
       "      <th>2</th>\n",
       "      <td>15</td>\n",
       "      <td>0.61</td>\n",
       "    </tr>\n",
       "    <tr>\n",
       "      <th>3</th>\n",
       "      <td>30</td>\n",
       "      <td>0.56</td>\n",
       "    </tr>\n",
       "    <tr>\n",
       "      <th>4</th>\n",
       "      <td>60</td>\n",
       "      <td>0.54</td>\n",
       "    </tr>\n",
       "  </tbody>\n",
       "</table>\n",
       "</div>"
      ],
      "text/plain": [
       "   time  prop\n",
       "0     1  0.84\n",
       "1     5  0.71\n",
       "2    15  0.61\n",
       "3    30  0.56\n",
       "4    60  0.54"
      ]
     },
     "execution_count": 15,
     "metadata": {},
     "output_type": "execute_result"
    }
   ],
   "source": [
    "import pandas as pd\n",
    "import matplotlib.pyplot as plt\n",
    "from sklearn.linear_model import LinearRegression\n",
    "\n",
    "word_recall = pd.read_csv(\"data/wordrecall.csv\")\n",
    "word_recall.head()"
   ]
  },
  {
   "cell_type": "code",
   "execution_count": 16,
   "id": "b13f4bed",
   "metadata": {},
   "outputs": [],
   "source": [
    "X = word_recall['prop']\n",
    "y = word_recall['time']"
   ]
  },
  {
   "cell_type": "code",
   "execution_count": null,
   "id": "8a394e12",
   "metadata": {},
   "outputs": [
    {
     "data": {
      "image/png": "[encoded data removed]",
      "text/plain": [
       "<Figure size 640x480 with 1 Axes>"
      ]
     },
     "metadata": {},
     "output_type": "display_data"
    }
   ],
   "source": [
    "plt.scatter(word_recall['time'], word_recall['prop'])\n",
    "plt.xlabel('time')\n",
    "plt.ylabel('prop');"
   ]
  }
 ],
 "metadata": {
  "kernelspec": {
   "display_name": "feat-env",
   "language": "python",
   "name": "python3"
  },
  "language_info": {
   "codemirror_mode": {
    "name": "ipython",
    "version": 3
   },
   "file_extension": ".py",
   "mimetype": "text/x-python",
   "name": "python",
   "nbconvert_exporter": "python",
   "pygments_lexer": "ipython3",
   "version": "3.13.9"
  }
 },
 "nbformat": 4,
 "nbformat_minor": 5
}

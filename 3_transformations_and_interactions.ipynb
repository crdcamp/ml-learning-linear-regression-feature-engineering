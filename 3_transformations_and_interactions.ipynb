{
 "cells": [
  {
   "cell_type": "markdown",
   "id": "42defaeb",
   "metadata": {},
   "source": [
    "# Transformations and Interactions\n",
    "\n",
    "[Resource](https://online.stat.psu.edu/stat462/node/85/)\n",
    "\n",
    "Now it's time to take a closer look at transformations and interactions using an **absolutely amazing** resource provided by Penn State. Amazing how much free knowledge is out there. Might even be worth doing a full run through this entire resource later.\n",
    "\n",
    "Unfortunately, this resource seems to be strictly for R programming applications, but no matter! If anything, translating these notes into code will only provide more practice for the upcoming lessons."
   ]
  }
 ],
 "metadata": {
  "language_info": {
   "name": "python"
  }
 },
 "nbformat": 4,
 "nbformat_minor": 5
}

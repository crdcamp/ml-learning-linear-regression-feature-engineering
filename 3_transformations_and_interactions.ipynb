{
 "cells": [
  {
   "cell_type": "markdown",
   "id": "42defaeb",
   "metadata": {},
   "source": [
    "# Transformations and Interactions\n",
    "\n",
    "[Resource](https://online.stat.psu.edu/stat462/node/85/)\n",
    "\n",
    "Now it's time to take a closer look at transformations and interactions using an **absolutely amazing** resource provided by Penn State. Amazing how much free knowledge is out there. Might even be worth doing a full run through this entire resource later.\n",
    "\n",
    "Unfortunately, this resource seems to be strictly for R programming applications, but no matter! If anything, translating these notes into code will only provide more practice for the upcoming lessons.\n",
    "\n",
    "Let's get to it."
   ]
  },
  {
   "cell_type": "markdown",
   "id": "c8bb05fd",
   "metadata": {},
   "source": [
    "## MLR Model Assumptions - LINE\n",
    "\n",
    "These points come from a previous section found [here](https://online.stat.psu.edu/stat462/node/145/).\n",
    "\n",
    "* The mean of the response at each set of values of the predictors is a **Linear function** of the predictors.\n",
    "* The errors are **Independent**.\n",
    "* The errors at each set of values of the predictors are **Normally distributed**.\n",
    "* The errors at each set of values of the predictors have **Equal variances**.\n",
    "\n",
    "An equivalent way to think of the first condition is that the mean of the error at each set of values of the predictors is **zero**. An alternative way to describe all four assumptions is that the errors are independent normal random variables with mean zero and constant variance.\n",
    "\n",
    "We can assess whether these conditions seem to hold for a MLR model applied to a particular sample dataset by looking at the estimated errors, i.e., the residuals (actual - predicted).\n",
    "\n",
    "# Log-transforming Only the Predictor for SLR\n",
    "\n",
    "In this section, we learn how to build and use a simple linear regression model by transforming the predictor *x* values. **Transforming the *x* values is appropriate when non-linearity is the only problem** (i.e., the independence, normality, and equal variance conditions are met). Note, though, that **it may be necessary to correct the non-linearity before you can assess the normality and equal variance assumptions**. Also, while some assumptions may appear to hold prior to applying a transformation, they may no longer hold once a transformation is applied. In other words, using transformations is part of an iterative process where all the linear regression assumptions are re-checked after each iteration.\n",
    "\n",
    "Although this resource is focusing on simple linear regression, these concepts apply to multiple linear regression as well."
   ]
  },
  {
   "cell_type": "markdown",
   "id": "8be84dad",
   "metadata": {},
   "source": [
    "# Building the Model\n",
    "\n",
    "The data we're about to use involves a memory retention experiment in which 13 subjects were asked to memorize a list of disconnected items. The subjects were then asked to recall the items at various times up to a week later. The proportion of items (y = prop) correctly recalled at various times (x = time in minutes) since the list was memorized and were recorded.\n",
    "\n",
    "Recognizing that there is no good reason that the error terms would not be independent, let's evaluate the remaining three conditions - linearity, normality, and equal variances - of the model. \n",
    "\n",
    "The resulting fitted line plot suggests that the proportion of recalled items (y) isn't linearly related to time (x):"
   ]
  },
  {
   "cell_type": "code",
   "execution_count": 285,
   "id": "adbe30bb",
   "metadata": {},
   "outputs": [
    {
     "data": {
      "text/html": [
       "<div>\n",
       "<style scoped>\n",
       "    .dataframe tbody tr th:only-of-type {\n",
       "        vertical-align: middle;\n",
       "    }\n",
       "\n",
       "    .dataframe tbody tr th {\n",
       "        vertical-align: top;\n",
       "    }\n",
       "\n",
       "    .dataframe thead th {\n",
       "        text-align: right;\n",
       "    }\n",
       "</style>\n",
       "<table border=\"1\" class=\"dataframe\">\n",
       "  <thead>\n",
       "    <tr style=\"text-align: right;\">\n",
       "      <th></th>\n",
       "      <th>time</th>\n",
       "      <th>prop</th>\n",
       "    </tr>\n",
       "  </thead>\n",
       "  <tbody>\n",
       "    <tr>\n",
       "      <th>0</th>\n",
       "      <td>1</td>\n",
       "      <td>0.84</td>\n",
       "    </tr>\n",
       "    <tr>\n",
       "      <th>1</th>\n",
       "      <td>5</td>\n",
       "      <td>0.71</td>\n",
       "    </tr>\n",
       "    <tr>\n",
       "      <th>2</th>\n",
       "      <td>15</td>\n",
       "      <td>0.61</td>\n",
       "    </tr>\n",
       "    <tr>\n",
       "      <th>3</th>\n",
       "      <td>30</td>\n",
       "      <td>0.56</td>\n",
       "    </tr>\n",
       "    <tr>\n",
       "      <th>4</th>\n",
       "      <td>60</td>\n",
       "      <td>0.54</td>\n",
       "    </tr>\n",
       "  </tbody>\n",
       "</table>\n",
       "</div>"
      ],
      "text/plain": [
       "   time  prop\n",
       "0     1  0.84\n",
       "1     5  0.71\n",
       "2    15  0.61\n",
       "3    30  0.56\n",
       "4    60  0.54"
      ]
     },
     "execution_count": 285,
     "metadata": {},
     "output_type": "execute_result"
    }
   ],
   "source": [
    "import pandas as pd\n",
    "import numpy as np\n",
    "import matplotlib.pyplot as plt\n",
    "import seaborn as sns\n",
    "from sklearn.linear_model import LinearRegression\n",
    "\n",
    "word_recall = pd.read_csv(\"data/wordrecall.csv\")\n",
    "word_recall.head()"
   ]
  },
  {
   "cell_type": "code",
   "execution_count": 286,
   "id": "b13f4bed",
   "metadata": {},
   "outputs": [],
   "source": [
    "X = word_recall[['time']]\n",
    "y = word_recall[['prop']]\n",
    "\n",
    "model = LinearRegression().fit(X, y)\n",
    "y_hat = model.predict(X)"
   ]
  },
  {
   "cell_type": "code",
   "execution_count": 287,
   "id": "8a394e12",
   "metadata": {},
   "outputs": [
    {
     "data": {
      "image/png": "[encoded data removed]",
      "text/plain": [
       "<Figure size 640x480 with 1 Axes>"
      ]
     },
     "metadata": {},
     "output_type": "display_data"
    }
   ],
   "source": [
    "plt.scatter(X, y)\n",
    "plt.plot(X, y_hat, color='red', label='Model predictions')\n",
    "plt.xlabel('Time')\n",
    "plt.ylabel('Prop')\n",
    "plt.title('Linear Regression Results')\n",
    "plt.legend();"
   ]
  },
  {
   "cell_type": "markdown",
   "id": "ad325c0e",
   "metadata": {},
   "source": [
    "The residuals vs. fits plot also suggests that the relationship is not linear:"
   ]
  },
  {
   "cell_type": "code",
   "execution_count": 288,
   "id": "4d97931b",
   "metadata": {},
   "outputs": [
    {
     "data": {
      "image/png": "[encoded data removed]",
      "text/plain": [
       "<Figure size 640x480 with 1 Axes>"
      ]
     },
     "metadata": {},
     "output_type": "display_data"
    }
   ],
   "source": [
    "residuals = y - y_hat\n",
    "residuals = residuals.to_numpy()\n",
    "\n",
    "plt.scatter(X, residuals)\n",
    "plt.axhline(y=0, color='red', linestyle='--')\n",
    "plt.xlabel('Time')\n",
    "plt.ylabel('Residuals')\n",
    "plt.title('Residual Plot');"
   ]
  },
  {
   "cell_type": "markdown",
   "id": "15ded453",
   "metadata": {},
   "source": [
    "Because the lack of linearity dominates the plot, we cannot use the plot to evaluate whether or not the variances are equal. We have to fix the non-linearity problem before we can assess the assumption of equal variances.\n",
    "\n",
    "What about the normal probability plot of the residuals? What does it suggest about the error terms? Can we conclude that they are normally distributed?\n",
    "\n",
    "**Note:** Their graph is slightly different and involves some sort of R programming library. I'm going to scavenge together some resources to best replicate tests for normality in data with Python."
   ]
  },
  {
   "cell_type": "code",
   "execution_count": 289,
   "id": "e475e74a",
   "metadata": {},
   "outputs": [
    {
     "data": {
      "image/png": "[encoded data removed]",
      "text/plain": [
       "<Figure size 640x480 with 1 Axes>"
      ]
     },
     "metadata": {},
     "output_type": "display_data"
    }
   ],
   "source": [
    "import scipy.stats as stats\n",
    "\n",
    "stats.probplot(residuals.ravel(), dist=\"norm\", plot=plt)\n",
    "plt.xlabel('RESI')\n",
    "plt.ylabel('Percent')\n",
    "plt.title('Q-Q Plot')\n",
    "plt.show();"
   ]
  },
  {
   "cell_type": "markdown",
   "id": "5f2a1f6b",
   "metadata": {},
   "source": [
    "I tried calculating the graph's associated statistics with limited success (I got about half of them correct). So, I'm just gonna move on for now and revisit the earlier Penn State lessons later. I think there's **a lot** of value in studying these statistical methods from such a credible source. Moreover, translating their R programming code into Python is **very** good practice.\n",
    "\n",
    "Let's move on."
   ]
  },
  {
   "cell_type": "markdown",
   "id": "8f3bb29a",
   "metadata": {},
   "source": [
    "The Anderson-Darling P-value for this example is 0.643, which suggests that we fail to reject the null hypotheses of normal error terms. There isn't enough evidence to conclude that the errors terms are not normal.\n",
    "\n",
    "In summary, we have a data set in which non-linearity is the only major problem. This situations screams out for transforming only the predictor's values. Before we do so, let's take an aside and discuss the **logarithmic transformation**, since it's the most common and most useful data transformation available.\n",
    "\n",
    "The default logarithmic transformation merely involves taking the natural logarithm or each data value. Once could consider taking a different kind of logarithm, such as log base 10 or log base 2. However, the natural logarithm is the most common logarithmic scale used in scientific work.\n",
    "\n",
    "The plot of the natural log function:\n",
    "\n",
    "![Alt image](images/nat_log_func_graph.png)\n",
    "\n",
    "suggests that the effects of taking the natural logarithm transformation are:\n",
    "* Small values that are close together are spread further out.\n",
    "* Large values that are spread out are brought closer together.\n",
    "\n",
    "Let's use the natural logarithm to transform the *x* values in the memory retention experiment. Since *x* = time is the predictor, all we need to do is take the natural logarithm of each time value appearing in the data set. In doing so, we create a newly transformed predictor called `lntime`:"
   ]
  },
  {
   "cell_type": "code",
   "execution_count": 290,
   "id": "8b9dbe1e",
   "metadata": {},
   "outputs": [
    {
     "data": {
      "text/html": [
       "<div>\n",
       "<style scoped>\n",
       "    .dataframe tbody tr th:only-of-type {\n",
       "        vertical-align: middle;\n",
       "    }\n",
       "\n",
       "    .dataframe tbody tr th {\n",
       "        vertical-align: top;\n",
       "    }\n",
       "\n",
       "    .dataframe thead th {\n",
       "        text-align: right;\n",
       "    }\n",
       "</style>\n",
       "<table border=\"1\" class=\"dataframe\">\n",
       "  <thead>\n",
       "    <tr style=\"text-align: right;\">\n",
       "      <th></th>\n",
       "      <th>time</th>\n",
       "      <th>prop</th>\n",
       "      <th>lntime</th>\n",
       "    </tr>\n",
       "  </thead>\n",
       "  <tbody>\n",
       "    <tr>\n",
       "      <th>0</th>\n",
       "      <td>1</td>\n",
       "      <td>0.84</td>\n",
       "      <td>0.000000</td>\n",
       "    </tr>\n",
       "    <tr>\n",
       "      <th>1</th>\n",
       "      <td>5</td>\n",
       "      <td>0.71</td>\n",
       "      <td>1.609438</td>\n",
       "    </tr>\n",
       "    <tr>\n",
       "      <th>2</th>\n",
       "      <td>15</td>\n",
       "      <td>0.61</td>\n",
       "      <td>2.708050</td>\n",
       "    </tr>\n",
       "    <tr>\n",
       "      <th>3</th>\n",
       "      <td>30</td>\n",
       "      <td>0.56</td>\n",
       "      <td>3.401197</td>\n",
       "    </tr>\n",
       "    <tr>\n",
       "      <th>4</th>\n",
       "      <td>60</td>\n",
       "      <td>0.54</td>\n",
       "      <td>4.094345</td>\n",
       "    </tr>\n",
       "    <tr>\n",
       "      <th>5</th>\n",
       "      <td>120</td>\n",
       "      <td>0.47</td>\n",
       "      <td>4.787492</td>\n",
       "    </tr>\n",
       "    <tr>\n",
       "      <th>6</th>\n",
       "      <td>240</td>\n",
       "      <td>0.45</td>\n",
       "      <td>5.480639</td>\n",
       "    </tr>\n",
       "    <tr>\n",
       "      <th>7</th>\n",
       "      <td>480</td>\n",
       "      <td>0.38</td>\n",
       "      <td>6.173786</td>\n",
       "    </tr>\n",
       "    <tr>\n",
       "      <th>8</th>\n",
       "      <td>720</td>\n",
       "      <td>0.36</td>\n",
       "      <td>6.579251</td>\n",
       "    </tr>\n",
       "    <tr>\n",
       "      <th>9</th>\n",
       "      <td>1440</td>\n",
       "      <td>0.26</td>\n",
       "      <td>7.272398</td>\n",
       "    </tr>\n",
       "    <tr>\n",
       "      <th>10</th>\n",
       "      <td>2880</td>\n",
       "      <td>0.20</td>\n",
       "      <td>7.965546</td>\n",
       "    </tr>\n",
       "    <tr>\n",
       "      <th>11</th>\n",
       "      <td>5760</td>\n",
       "      <td>0.16</td>\n",
       "      <td>8.658693</td>\n",
       "    </tr>\n",
       "    <tr>\n",
       "      <th>12</th>\n",
       "      <td>10080</td>\n",
       "      <td>0.08</td>\n",
       "      <td>9.218309</td>\n",
       "    </tr>\n",
       "  </tbody>\n",
       "</table>\n",
       "</div>"
      ],
      "text/plain": [
       "     time  prop    lntime\n",
       "0       1  0.84  0.000000\n",
       "1       5  0.71  1.609438\n",
       "2      15  0.61  2.708050\n",
       "3      30  0.56  3.401197\n",
       "4      60  0.54  4.094345\n",
       "5     120  0.47  4.787492\n",
       "6     240  0.45  5.480639\n",
       "7     480  0.38  6.173786\n",
       "8     720  0.36  6.579251\n",
       "9    1440  0.26  7.272398\n",
       "10   2880  0.20  7.965546\n",
       "11   5760  0.16  8.658693\n",
       "12  10080  0.08  9.218309"
      ]
     },
     "execution_count": 290,
     "metadata": {},
     "output_type": "execute_result"
    }
   ],
   "source": [
    "word_recall[\"lntime\"] = np.log(word_recall['time'])\n",
    "word_recall"
   ]
  }
 ],
 "metadata": {
  "kernelspec": {
   "display_name": "feat-env",
   "language": "python",
   "name": "python3"
  },
  "language_info": {
   "codemirror_mode": {
    "name": "ipython",
    "version": 3
   },
   "file_extension": ".py",
   "mimetype": "text/x-python",
   "name": "python",
   "nbconvert_exporter": "python",
   "pygments_lexer": "ipython3",
   "version": "3.13.9"
  }
 },
 "nbformat": 4,
 "nbformat_minor": 5
}

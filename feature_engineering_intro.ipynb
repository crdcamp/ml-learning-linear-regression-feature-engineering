{
 "cells": [
  {
   "cell_type": "markdown",
   "id": "0b97ba12",
   "metadata": {},
   "source": [
    "# Introduction to Feature Engineering\n",
    "\n",
    "[Resource](https://www.learndatasci.com/tutorials/intro-feature-engineering-machine-learning-python/)\n",
    "\n",
    "During the creation of my first linear regression models, I noticed a serious knowledge gap in the form of feature engineering. After some preparation, a new learning path has been formed, and I will take the time to do a much needed deep dive into feature engineering. This is an intermediary step in the creation of my first legitimate model. Not the most fun topic, but like all others, it's an essential one.\n",
    "\n",
    "As I always say, let's begin."
   ]
  },
  {
   "cell_type": "markdown",
   "id": "10c241ef",
   "metadata": {},
   "source": [
    "# Introduction\n",
    "\n",
    "Let's put a face to the name: **Feature engineering is the process of transforming data to increase the predictive performance of machine learning models**. it's both useful and necessary for the following reasons:\n",
    "1. Often better predictive accuracy: Leads to better weighting of variables. It can even lead to faster convergence.\n",
    "1. Better interpretability of relationships in the data: When we engineer new features and understand how they relate with our outcome of interest, that opens up our understanding of the data. If we skip feature engineering and use complex models (that to a large degree automate feature engineering), we may still achieve a high evaluation score, at the cost of better understanding out data and its relationship with the target variable.\n",
    "\n",
    "Every data science pipeline begins with **Exploratory Data Analysis (EDA)**. EDA is a crucial pre-cursor step as we get a better sense of what features we need to create/modify. The next step is usually data cleaning/standardization depending on how unstructured or messy the data is.\n",
    "\n",
    "Feature engineering follows next and we begin that process by evaluating the baseline performance of the data at hand. We then iteratively construct features and continuously evaluate model performance (and compare it with the baseline performance) through a process called feature selection, until we are satisfied with the results.\n",
    "\n",
    "## What this article does and doesn't cover\n",
    "\n",
    "Feature engineering is a vast field as there are many domain-specific tangents. This article covers some of the popular techniques employed in handling tabular datasets. This will not cover feature engineering for natural language processing, image classification, time-series data, etc.\n",
    "\n",
    "(Unfortunate. I don't. care for any of these except time-series data.)"
   ]
  },
  {
   "cell_type": "markdown",
   "id": "9decfe57",
   "metadata": {},
   "source": [
    "# The two approaches to feature engineering\n",
    "\n",
    "1. **The checklist approach:** using tried and tested methods to construct features.\n",
    "1. **The domain-based approach:** incorporating domain knowledge of the dataset's subject matter into constructing new features.\n",
    "\n",
    "Now we're gonna take a look at these approaches using some actual data. Let'do some importing."
   ]
  },
  {
   "cell_type": "code",
   "execution_count": 1,
   "id": "773137cf",
   "metadata": {},
   "outputs": [],
   "source": [
    "import pandas as pd\n",
    "import numpy as np\n",
    "\n",
    "import matplotlib.pyplot as plt\n",
    "import seaborn as sns\n",
    "sns.set_theme()\n",
    "sns.set_palette(sns.color_palette(['#851836', '#edbd17']))\n",
    "sns.set_style(\"darkgrid\")\n",
    "\n",
    "from sklearn.preprocessing import MinMaxScaler\n",
    "from sklearn.decomposition import PCA\n",
    "from sklearn.linear_model import LinearRegression\n",
    "from sklearn.metrics import mean_squared_error\n",
    "from sklearn.model_selection import train_test_split"
   ]
  },
  {
   "cell_type": "markdown",
   "id": "49a29852",
   "metadata": {},
   "source": [
    "We will now demonstrate the checklist approach using a dataset on supermarket sales. Note that the dataset has been slightly modified for the tutorial."
   ]
  }
 ],
 "metadata": {
  "kernelspec": {
   "display_name": "feat-env",
   "language": "python",
   "name": "python3"
  },
  "language_info": {
   "codemirror_mode": {
    "name": "ipython",
    "version": 3
   },
   "file_extension": ".py",
   "mimetype": "text/x-python",
   "name": "python",
   "nbconvert_exporter": "python",
   "pygments_lexer": "ipython3",
   "version": "3.13.9"
  }
 },
 "nbformat": 4,
 "nbformat_minor": 5
}

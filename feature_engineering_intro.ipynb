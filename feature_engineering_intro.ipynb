{
 "cells": [
  {
   "cell_type": "markdown",
   "id": "0b97ba12",
   "metadata": {},
   "source": [
    "# Introduction to Feature Engineering\n",
    "\n",
    "[Resource](https://www.learndatasci.com/tutorials/intro-feature-engineering-machine-learning-python/)\n",
    "\n",
    "During the creation of my first linear regression models, I noticed a serious knowledge gap in the form of feature engineering. After some preparation, a new learning path has been formed, and I will take the time to do a much needed deep dive into feature engineering. This is an intermediary step in the creation of my first legitimate model. Not the most fun topic, but like all others, it's an essential one.\n",
    "\n",
    "As I always say, let's begin."
   ]
  },
  {
   "cell_type": "markdown",
   "id": "10c241ef",
   "metadata": {},
   "source": [
    "# Introduction\n",
    "\n",
    "Let's put a face to the name: **Feature engineering is the process of transforming data to increase the predictive performance of machine learning models**. it's both useful and necessary for the following reasons:\n",
    "1. Often better predictive accuracy: Leads to better weighting of variables. It can even lead to faster convergence.\n",
    "1. Better interpretability of relationships in the data: When we engineer new features and understand how they relate with our outcome of interest, that opens up our understanding of the data. If we skip feature engineering and use complex models (that to a large degree automate feature engineering), we may still achieve a high evaluation score, at the cost of better understanding out data and its relationship with the target variable.\n",
    "\n",
    "Every data science pipeline begins with **Exploratory Data Analysis (EDA)**. EDA is a crucial pre-cursor step as we get a better sense of what features we need to create/modify. The next step is usually data cleaning/standardization depending on how unstructured or messy the data is.\n",
    "\n",
    "Feature engineering follows next and we begin that process by evaluating the baseline performance of the data at hand. We then iteratively construct features and continuously evaluate model performance (and compare it with the baseline performance) through a process called feature selection, until we are satisfied with the results.\n",
    "\n",
    "## What this article does and doesn't cover\n",
    "\n",
    "Feature engineering is a vast field as there are many domain-specific tangents. This article covers some of the popular techniques employed in handling tabular datasets. This will not cover feature engineering for natural language processing, image classification, time-series data, etc.\n",
    "\n",
    "(Unfortunate. I don't. care for any of these except time-series data.)"
   ]
  },
  {
   "cell_type": "markdown",
   "id": "9decfe57",
   "metadata": {},
   "source": [
    "# The two approaches to feature engineering\n",
    "\n",
    "1. **The checklist approach:** using tried and tested methods to construct features.\n",
    "1. **The domain-based approach:** incorporating domain knowledge of the dataset's subject matter into constructing new features.\n",
    "\n",
    "Now we're gonna take a look at these approaches using some actual data. Let'do some importing."
   ]
  },
  {
   "cell_type": "code",
   "execution_count": 2,
   "id": "773137cf",
   "metadata": {},
   "outputs": [],
   "source": [
    "import pandas as pd\n",
    "import numpy as np\n",
    "\n",
    "import matplotlib.pyplot as plt\n",
    "import seaborn as sns\n",
    "sns.set_theme()\n",
    "sns.set_palette(sns.color_palette(['#851836', '#edbd17']))\n",
    "sns.set_style(\"darkgrid\")\n",
    "\n",
    "from sklearn.preprocessing import MinMaxScaler\n",
    "from sklearn.decomposition import PCA\n",
    "from sklearn.linear_model import LinearRegression\n",
    "from sklearn.metrics import mean_squared_error\n",
    "from sklearn.model_selection import train_test_split"
   ]
  },
  {
   "cell_type": "markdown",
   "id": "49a29852",
   "metadata": {},
   "source": [
    "We will now demonstrate the checklist approach using a dataset on supermarket sales. Note that the dataset has been slightly modified for the tutorial."
   ]
  },
  {
   "cell_type": "code",
   "execution_count": 3,
   "id": "7d9b41c9",
   "metadata": {},
   "outputs": [
    {
     "data": {
      "application/vnd.microsoft.datawrangler.viewer.v0+json": {
       "columns": [
        {
         "name": "index",
         "rawType": "int64",
         "type": "integer"
        },
        {
         "name": "Invoice ID",
         "rawType": "object",
         "type": "string"
        },
        {
         "name": "Branch",
         "rawType": "object",
         "type": "string"
        },
        {
         "name": "City",
         "rawType": "object",
         "type": "string"
        },
        {
         "name": "Customer type",
         "rawType": "object",
         "type": "string"
        },
        {
         "name": "Gender",
         "rawType": "object",
         "type": "string"
        },
        {
         "name": "Product line",
         "rawType": "object",
         "type": "string"
        },
        {
         "name": "Unit price",
         "rawType": "float64",
         "type": "float"
        },
        {
         "name": "Quantity",
         "rawType": "int64",
         "type": "integer"
        },
        {
         "name": "Tax 5%",
         "rawType": "float64",
         "type": "float"
        },
        {
         "name": "Sales",
         "rawType": "float64",
         "type": "float"
        },
        {
         "name": "Date",
         "rawType": "object",
         "type": "string"
        },
        {
         "name": "Time",
         "rawType": "object",
         "type": "string"
        },
        {
         "name": "Payment",
         "rawType": "object",
         "type": "string"
        },
        {
         "name": "cogs",
         "rawType": "float64",
         "type": "float"
        },
        {
         "name": "gross margin percentage",
         "rawType": "float64",
         "type": "float"
        },
        {
         "name": "gross income",
         "rawType": "float64",
         "type": "float"
        },
        {
         "name": "Rating",
         "rawType": "float64",
         "type": "float"
        }
       ],
       "ref": "ba3e462d-d98d-4db6-beb2-6c896886a64d",
       "rows": [
        [
         "0",
         "750-67-8428",
         "Alex",
         "Yangon",
         "Member",
         "Female",
         "Health and beauty",
         "74.69",
         "7",
         "26.1415",
         "548.9715",
         "1/5/2019",
         "1:08:00 PM",
         "Ewallet",
         "522.83",
         "4.761904762",
         "26.1415",
         "9.1"
        ],
        [
         "1",
         "226-31-3081",
         "Giza",
         "Naypyitaw",
         "Normal",
         "Female",
         "Electronic accessories",
         "15.28",
         "5",
         "3.82",
         "80.22",
         "3/8/2019",
         "10:29:00 AM",
         "Cash",
         "76.4",
         "4.761904762",
         "3.82",
         "9.6"
        ],
        [
         "2",
         "631-41-3108",
         "Alex",
         "Yangon",
         "Normal",
         "Female",
         "Home and lifestyle",
         "46.33",
         "7",
         "16.2155",
         "340.5255",
         "3/3/2019",
         "1:23:00 PM",
         "Credit card",
         "324.31",
         "4.761904762",
         "16.2155",
         "7.4"
        ],
        [
         "3",
         "123-19-1176",
         "Alex",
         "Yangon",
         "Member",
         "Female",
         "Health and beauty",
         "58.22",
         "8",
         "23.288",
         "489.048",
         "1/27/2019",
         "8:33:00 PM",
         "Ewallet",
         "465.76",
         "4.761904762",
         "23.288",
         "8.4"
        ],
        [
         "4",
         "373-73-7910",
         "Alex",
         "Yangon",
         "Member",
         "Female",
         "Sports and travel",
         "86.31",
         "7",
         "30.2085",
         "634.3785",
         "2/8/2019",
         "10:37:00 AM",
         "Ewallet",
         "604.17",
         "4.761904762",
         "30.2085",
         "5.3"
        ]
       ],
       "shape": {
        "columns": 17,
        "rows": 5
       }
      },
      "text/html": [
       "<div>\n",
       "<style scoped>\n",
       "    .dataframe tbody tr th:only-of-type {\n",
       "        vertical-align: middle;\n",
       "    }\n",
       "\n",
       "    .dataframe tbody tr th {\n",
       "        vertical-align: top;\n",
       "    }\n",
       "\n",
       "    .dataframe thead th {\n",
       "        text-align: right;\n",
       "    }\n",
       "</style>\n",
       "<table border=\"1\" class=\"dataframe\">\n",
       "  <thead>\n",
       "    <tr style=\"text-align: right;\">\n",
       "      <th></th>\n",
       "      <th>Invoice ID</th>\n",
       "      <th>Branch</th>\n",
       "      <th>City</th>\n",
       "      <th>Customer type</th>\n",
       "      <th>Gender</th>\n",
       "      <th>Product line</th>\n",
       "      <th>Unit price</th>\n",
       "      <th>Quantity</th>\n",
       "      <th>Tax 5%</th>\n",
       "      <th>Sales</th>\n",
       "      <th>Date</th>\n",
       "      <th>Time</th>\n",
       "      <th>Payment</th>\n",
       "      <th>cogs</th>\n",
       "      <th>gross margin percentage</th>\n",
       "      <th>gross income</th>\n",
       "      <th>Rating</th>\n",
       "    </tr>\n",
       "  </thead>\n",
       "  <tbody>\n",
       "    <tr>\n",
       "      <th>0</th>\n",
       "      <td>750-67-8428</td>\n",
       "      <td>Alex</td>\n",
       "      <td>Yangon</td>\n",
       "      <td>Member</td>\n",
       "      <td>Female</td>\n",
       "      <td>Health and beauty</td>\n",
       "      <td>74.69</td>\n",
       "      <td>7</td>\n",
       "      <td>26.1415</td>\n",
       "      <td>548.9715</td>\n",
       "      <td>1/5/2019</td>\n",
       "      <td>1:08:00 PM</td>\n",
       "      <td>Ewallet</td>\n",
       "      <td>522.83</td>\n",
       "      <td>4.761905</td>\n",
       "      <td>26.1415</td>\n",
       "      <td>9.1</td>\n",
       "    </tr>\n",
       "    <tr>\n",
       "      <th>1</th>\n",
       "      <td>226-31-3081</td>\n",
       "      <td>Giza</td>\n",
       "      <td>Naypyitaw</td>\n",
       "      <td>Normal</td>\n",
       "      <td>Female</td>\n",
       "      <td>Electronic accessories</td>\n",
       "      <td>15.28</td>\n",
       "      <td>5</td>\n",
       "      <td>3.8200</td>\n",
       "      <td>80.2200</td>\n",
       "      <td>3/8/2019</td>\n",
       "      <td>10:29:00 AM</td>\n",
       "      <td>Cash</td>\n",
       "      <td>76.40</td>\n",
       "      <td>4.761905</td>\n",
       "      <td>3.8200</td>\n",
       "      <td>9.6</td>\n",
       "    </tr>\n",
       "    <tr>\n",
       "      <th>2</th>\n",
       "      <td>631-41-3108</td>\n",
       "      <td>Alex</td>\n",
       "      <td>Yangon</td>\n",
       "      <td>Normal</td>\n",
       "      <td>Female</td>\n",
       "      <td>Home and lifestyle</td>\n",
       "      <td>46.33</td>\n",
       "      <td>7</td>\n",
       "      <td>16.2155</td>\n",
       "      <td>340.5255</td>\n",
       "      <td>3/3/2019</td>\n",
       "      <td>1:23:00 PM</td>\n",
       "      <td>Credit card</td>\n",
       "      <td>324.31</td>\n",
       "      <td>4.761905</td>\n",
       "      <td>16.2155</td>\n",
       "      <td>7.4</td>\n",
       "    </tr>\n",
       "    <tr>\n",
       "      <th>3</th>\n",
       "      <td>123-19-1176</td>\n",
       "      <td>Alex</td>\n",
       "      <td>Yangon</td>\n",
       "      <td>Member</td>\n",
       "      <td>Female</td>\n",
       "      <td>Health and beauty</td>\n",
       "      <td>58.22</td>\n",
       "      <td>8</td>\n",
       "      <td>23.2880</td>\n",
       "      <td>489.0480</td>\n",
       "      <td>1/27/2019</td>\n",
       "      <td>8:33:00 PM</td>\n",
       "      <td>Ewallet</td>\n",
       "      <td>465.76</td>\n",
       "      <td>4.761905</td>\n",
       "      <td>23.2880</td>\n",
       "      <td>8.4</td>\n",
       "    </tr>\n",
       "    <tr>\n",
       "      <th>4</th>\n",
       "      <td>373-73-7910</td>\n",
       "      <td>Alex</td>\n",
       "      <td>Yangon</td>\n",
       "      <td>Member</td>\n",
       "      <td>Female</td>\n",
       "      <td>Sports and travel</td>\n",
       "      <td>86.31</td>\n",
       "      <td>7</td>\n",
       "      <td>30.2085</td>\n",
       "      <td>634.3785</td>\n",
       "      <td>2/8/2019</td>\n",
       "      <td>10:37:00 AM</td>\n",
       "      <td>Ewallet</td>\n",
       "      <td>604.17</td>\n",
       "      <td>4.761905</td>\n",
       "      <td>30.2085</td>\n",
       "      <td>5.3</td>\n",
       "    </tr>\n",
       "  </tbody>\n",
       "</table>\n",
       "</div>"
      ],
      "text/plain": [
       "    Invoice ID Branch       City Customer type  Gender  \\\n",
       "0  750-67-8428   Alex     Yangon        Member  Female   \n",
       "1  226-31-3081   Giza  Naypyitaw        Normal  Female   \n",
       "2  631-41-3108   Alex     Yangon        Normal  Female   \n",
       "3  123-19-1176   Alex     Yangon        Member  Female   \n",
       "4  373-73-7910   Alex     Yangon        Member  Female   \n",
       "\n",
       "             Product line  Unit price  Quantity   Tax 5%     Sales       Date  \\\n",
       "0       Health and beauty       74.69         7  26.1415  548.9715   1/5/2019   \n",
       "1  Electronic accessories       15.28         5   3.8200   80.2200   3/8/2019   \n",
       "2      Home and lifestyle       46.33         7  16.2155  340.5255   3/3/2019   \n",
       "3       Health and beauty       58.22         8  23.2880  489.0480  1/27/2019   \n",
       "4       Sports and travel       86.31         7  30.2085  634.3785   2/8/2019   \n",
       "\n",
       "          Time      Payment    cogs  gross margin percentage  gross income  \\\n",
       "0   1:08:00 PM      Ewallet  522.83                 4.761905       26.1415   \n",
       "1  10:29:00 AM         Cash   76.40                 4.761905        3.8200   \n",
       "2   1:23:00 PM  Credit card  324.31                 4.761905       16.2155   \n",
       "3   8:33:00 PM      Ewallet  465.76                 4.761905       23.2880   \n",
       "4  10:37:00 AM      Ewallet  604.17                 4.761905       30.2085   \n",
       "\n",
       "   Rating  \n",
       "0     9.1  \n",
       "1     9.6  \n",
       "2     7.4  \n",
       "3     8.4  \n",
       "4     5.3  "
      ]
     },
     "execution_count": 3,
     "metadata": {},
     "output_type": "execute_result"
    }
   ],
   "source": [
    "df = pd.read_csv('data/supermarket_sales.csv')\n",
    "df.head()"
   ]
  },
  {
   "cell_type": "markdown",
   "id": "c4d12d52",
   "metadata": {},
   "source": [
    "# The Checklist Approach\n",
    "\n",
    "## Numeric Aggregations\n",
    "\n",
    "Numeric aggregation is a common feature engineering approach for longitudinal or panel data (data where subjects are repeated). In our dataset, we have categorical variables with repeated observations.\n",
    "\n",
    "**Numeric aggregation involves three parameters:**\n",
    "1. Categorical column\n",
    "1. Numeric column(s) to be aggregated\n",
    "1. Aggregation type: Mean, median, mode, standard deviation, variance, count, etc\n",
    "\n",
    "We're gonna cover three examples of numeric aggregations based on mean, standard deviation, and count respectively. Our three parameters are:\n",
    "1. Branch - categorical column, which we're grouping by\n",
    "1. Tax 5%, Unit Price, Product line, and Gender - numeric columns to be aggregated\n",
    "1. Mean, standard deviation, and count - aggregations to be used on the numeric columns\n",
    "\n",
    "Let's start by grouping by Branch and perform the three statistical aggregations by transforming the numeric columns of interest."
   ]
  },
  {
   "cell_type": "code",
   "execution_count": 4,
   "id": "921f61dc",
   "metadata": {},
   "outputs": [],
   "source": [
    "grouped_df = df.groupby('Branch')\n",
    "\n",
    "df[['tax_branch_mean', 'unit_price_mean']] = grouped_df[['Tax 5%', 'Unit price']].transform('mean')\n",
    "df[['tax_branch_std', 'unit_price_std']] = grouped_df[['Tax 5%', 'Unit price']].transform('std')\n",
    "df[['product_count', 'gender_count']] = grouped_df[['Product line', 'Gender']].transform('count')"
   ]
  },
  {
   "cell_type": "markdown",
   "id": "d27d9a41",
   "metadata": {},
   "source": [
    "And we see the features we've just created below.\n",
    "\n",
    "(I added `Invoice ID` for more clarity.)"
   ]
  },
  {
   "cell_type": "code",
   "execution_count": 5,
   "id": "422f8397",
   "metadata": {},
   "outputs": [
    {
     "data": {
      "application/vnd.microsoft.datawrangler.viewer.v0+json": {
       "columns": [
        {
         "name": "index",
         "rawType": "int64",
         "type": "integer"
        },
        {
         "name": "Invoice ID",
         "rawType": "object",
         "type": "string"
        },
        {
         "name": "Branch",
         "rawType": "object",
         "type": "string"
        },
        {
         "name": "tax_branch_mean",
         "rawType": "float64",
         "type": "float"
        },
        {
         "name": "unit_price_mean",
         "rawType": "float64",
         "type": "float"
        },
        {
         "name": "tax_branch_std",
         "rawType": "float64",
         "type": "float"
        },
        {
         "name": "unit_price_std",
         "rawType": "float64",
         "type": "float"
        },
        {
         "name": "product_count",
         "rawType": "int64",
         "type": "integer"
        },
        {
         "name": "gender_count",
         "rawType": "int64",
         "type": "integer"
        }
       ],
       "ref": "706566c2-99f8-4c94-9436-4d0bcecfbadc",
       "rows": [
        [
         "0",
         "750-67-8428",
         "Alex",
         "14.874001470588235",
         "54.78085294117648",
         "11.0304773587455",
         "26.13212694294861",
         "340",
         "340"
        ],
        [
         "1",
         "226-31-3081",
         "Giza",
         "16.05236737804878",
         "56.609024390243896",
         "12.531469996030383",
         "27.179799078439814",
         "328",
         "328"
        ],
        [
         "2",
         "631-41-3108",
         "Alex",
         "14.874001470588235",
         "54.78085294117648",
         "11.0304773587455",
         "26.13212694294861",
         "340",
         "340"
        ],
        [
         "3",
         "123-19-1176",
         "Alex",
         "14.874001470588235",
         "54.78085294117648",
         "11.0304773587455",
         "26.13212694294861",
         "340",
         "340"
        ],
        [
         "4",
         "373-73-7910",
         "Alex",
         "14.874001470588235",
         "54.78085294117648",
         "11.0304773587455",
         "26.13212694294861",
         "340",
         "340"
        ],
        [
         "5",
         "699-14-3026",
         "Giza",
         "16.05236737804878",
         "56.609024390243896",
         "12.531469996030383",
         "27.179799078439814",
         "328",
         "328"
        ],
        [
         "6",
         "355-53-5943",
         "Alex",
         "14.874001470588235",
         "54.78085294117648",
         "11.0304773587455",
         "26.13212694294861",
         "340",
         "340"
        ],
        [
         "7",
         "315-22-5665",
         "Giza",
         "16.05236737804878",
         "56.609024390243896",
         "12.531469996030383",
         "27.179799078439814",
         "328",
         "328"
        ],
        [
         "8",
         "665-32-9167",
         "Alex",
         "14.874001470588235",
         "54.78085294117648",
         "11.0304773587455",
         "26.13212694294861",
         "340",
         "340"
        ],
        [
         "9",
         "692-92-5582",
         "Cairo",
         "15.232024096385542",
         "55.65927710843374",
         "11.545122145495148",
         "26.22455893468466",
         "332",
         "332"
        ]
       ],
       "shape": {
        "columns": 8,
        "rows": 10
       }
      },
      "text/html": [
       "<div>\n",
       "<style scoped>\n",
       "    .dataframe tbody tr th:only-of-type {\n",
       "        vertical-align: middle;\n",
       "    }\n",
       "\n",
       "    .dataframe tbody tr th {\n",
       "        vertical-align: top;\n",
       "    }\n",
       "\n",
       "    .dataframe thead th {\n",
       "        text-align: right;\n",
       "    }\n",
       "</style>\n",
       "<table border=\"1\" class=\"dataframe\">\n",
       "  <thead>\n",
       "    <tr style=\"text-align: right;\">\n",
       "      <th></th>\n",
       "      <th>Invoice ID</th>\n",
       "      <th>Branch</th>\n",
       "      <th>tax_branch_mean</th>\n",
       "      <th>unit_price_mean</th>\n",
       "      <th>tax_branch_std</th>\n",
       "      <th>unit_price_std</th>\n",
       "      <th>product_count</th>\n",
       "      <th>gender_count</th>\n",
       "    </tr>\n",
       "  </thead>\n",
       "  <tbody>\n",
       "    <tr>\n",
       "      <th>0</th>\n",
       "      <td>750-67-8428</td>\n",
       "      <td>Alex</td>\n",
       "      <td>14.874001</td>\n",
       "      <td>54.780853</td>\n",
       "      <td>11.030477</td>\n",
       "      <td>26.132127</td>\n",
       "      <td>340</td>\n",
       "      <td>340</td>\n",
       "    </tr>\n",
       "    <tr>\n",
       "      <th>1</th>\n",
       "      <td>226-31-3081</td>\n",
       "      <td>Giza</td>\n",
       "      <td>16.052367</td>\n",
       "      <td>56.609024</td>\n",
       "      <td>12.531470</td>\n",
       "      <td>27.179799</td>\n",
       "      <td>328</td>\n",
       "      <td>328</td>\n",
       "    </tr>\n",
       "    <tr>\n",
       "      <th>2</th>\n",
       "      <td>631-41-3108</td>\n",
       "      <td>Alex</td>\n",
       "      <td>14.874001</td>\n",
       "      <td>54.780853</td>\n",
       "      <td>11.030477</td>\n",
       "      <td>26.132127</td>\n",
       "      <td>340</td>\n",
       "      <td>340</td>\n",
       "    </tr>\n",
       "    <tr>\n",
       "      <th>3</th>\n",
       "      <td>123-19-1176</td>\n",
       "      <td>Alex</td>\n",
       "      <td>14.874001</td>\n",
       "      <td>54.780853</td>\n",
       "      <td>11.030477</td>\n",
       "      <td>26.132127</td>\n",
       "      <td>340</td>\n",
       "      <td>340</td>\n",
       "    </tr>\n",
       "    <tr>\n",
       "      <th>4</th>\n",
       "      <td>373-73-7910</td>\n",
       "      <td>Alex</td>\n",
       "      <td>14.874001</td>\n",
       "      <td>54.780853</td>\n",
       "      <td>11.030477</td>\n",
       "      <td>26.132127</td>\n",
       "      <td>340</td>\n",
       "      <td>340</td>\n",
       "    </tr>\n",
       "    <tr>\n",
       "      <th>5</th>\n",
       "      <td>699-14-3026</td>\n",
       "      <td>Giza</td>\n",
       "      <td>16.052367</td>\n",
       "      <td>56.609024</td>\n",
       "      <td>12.531470</td>\n",
       "      <td>27.179799</td>\n",
       "      <td>328</td>\n",
       "      <td>328</td>\n",
       "    </tr>\n",
       "    <tr>\n",
       "      <th>6</th>\n",
       "      <td>355-53-5943</td>\n",
       "      <td>Alex</td>\n",
       "      <td>14.874001</td>\n",
       "      <td>54.780853</td>\n",
       "      <td>11.030477</td>\n",
       "      <td>26.132127</td>\n",
       "      <td>340</td>\n",
       "      <td>340</td>\n",
       "    </tr>\n",
       "    <tr>\n",
       "      <th>7</th>\n",
       "      <td>315-22-5665</td>\n",
       "      <td>Giza</td>\n",
       "      <td>16.052367</td>\n",
       "      <td>56.609024</td>\n",
       "      <td>12.531470</td>\n",
       "      <td>27.179799</td>\n",
       "      <td>328</td>\n",
       "      <td>328</td>\n",
       "    </tr>\n",
       "    <tr>\n",
       "      <th>8</th>\n",
       "      <td>665-32-9167</td>\n",
       "      <td>Alex</td>\n",
       "      <td>14.874001</td>\n",
       "      <td>54.780853</td>\n",
       "      <td>11.030477</td>\n",
       "      <td>26.132127</td>\n",
       "      <td>340</td>\n",
       "      <td>340</td>\n",
       "    </tr>\n",
       "    <tr>\n",
       "      <th>9</th>\n",
       "      <td>692-92-5582</td>\n",
       "      <td>Cairo</td>\n",
       "      <td>15.232024</td>\n",
       "      <td>55.659277</td>\n",
       "      <td>11.545122</td>\n",
       "      <td>26.224559</td>\n",
       "      <td>332</td>\n",
       "      <td>332</td>\n",
       "    </tr>\n",
       "  </tbody>\n",
       "</table>\n",
       "</div>"
      ],
      "text/plain": [
       "    Invoice ID Branch  tax_branch_mean  unit_price_mean  tax_branch_std  \\\n",
       "0  750-67-8428   Alex        14.874001        54.780853       11.030477   \n",
       "1  226-31-3081   Giza        16.052367        56.609024       12.531470   \n",
       "2  631-41-3108   Alex        14.874001        54.780853       11.030477   \n",
       "3  123-19-1176   Alex        14.874001        54.780853       11.030477   \n",
       "4  373-73-7910   Alex        14.874001        54.780853       11.030477   \n",
       "5  699-14-3026   Giza        16.052367        56.609024       12.531470   \n",
       "6  355-53-5943   Alex        14.874001        54.780853       11.030477   \n",
       "7  315-22-5665   Giza        16.052367        56.609024       12.531470   \n",
       "8  665-32-9167   Alex        14.874001        54.780853       11.030477   \n",
       "9  692-92-5582  Cairo        15.232024        55.659277       11.545122   \n",
       "\n",
       "   unit_price_std  product_count  gender_count  \n",
       "0       26.132127            340           340  \n",
       "1       27.179799            328           328  \n",
       "2       26.132127            340           340  \n",
       "3       26.132127            340           340  \n",
       "4       26.132127            340           340  \n",
       "5       27.179799            328           328  \n",
       "6       26.132127            340           340  \n",
       "7       27.179799            328           328  \n",
       "8       26.132127            340           340  \n",
       "9       26.224559            332           332  "
      ]
     },
     "execution_count": 5,
     "metadata": {},
     "output_type": "execute_result"
    }
   ],
   "source": [
    "df[['Invoice ID', 'Branch', 'tax_branch_mean', 'unit_price_mean', 'tax_branch_std',\n",
    "    'unit_price_std', 'product_count', 'gender_count']].head(10)\n",
    "\n"
   ]
  },
  {
   "cell_type": "markdown",
   "id": "51b4c023",
   "metadata": {},
   "source": [
    "**Note:** The reason you're seeing repeating Branches after the grouping is because we used `.transform()`, not `.aggregate()`. This way we have one row per transaction with all its features, rather than losing the majority of the data."
   ]
  },
  {
   "cell_type": "markdown",
   "id": "1c2c0cf2",
   "metadata": {},
   "source": [
    "## Choosing numeric aggregation parameters\n",
    "\n",
    "How do we pick which three parameters to use? Well, that will depend on your domain knowledge and your understanding of the dataset. For example, in this dataset, if you feel like the variation in the **average** (aggregation type) **Rating** (numeric variable) based on the **Branch** (categorical column) is important in predicting **gross income** (target variable), create the feature! If you feel like the count of the products in the Product Line, by branch, is important in informing gross income, encode that as a feature!\n",
    "\n",
    "Now if you can test as many combinations of the three parameters - go ahead - as long as you are meticulous at selecting only those features that have enough predictive power i,e, be sure to have a rigorous feature selection process.\n",
    "\n",
    "Below we can see a couple of the columns we created (`tax_branch_mean` and `unit_price_mean`). They are aggregations based on the `Branch` variable."
   ]
  },
  {
   "cell_type": "code",
   "execution_count": 6,
   "id": "a7c76617",
   "metadata": {},
   "outputs": [
    {
     "data": {
      "application/vnd.microsoft.datawrangler.viewer.v0+json": {
       "columns": [
        {
         "name": "index",
         "rawType": "int64",
         "type": "integer"
        },
        {
         "name": "Tax 5%",
         "rawType": "float64",
         "type": "float"
        },
        {
         "name": "Unit price",
         "rawType": "float64",
         "type": "float"
        },
        {
         "name": "Branch",
         "rawType": "object",
         "type": "string"
        },
        {
         "name": "tax_branch_mean",
         "rawType": "float64",
         "type": "float"
        },
        {
         "name": "unit_price_mean",
         "rawType": "float64",
         "type": "float"
        }
       ],
       "ref": "a4fe3e27-1636-4bd5-a24a-cfddb4d28835",
       "rows": [
        [
         "0",
         "26.1415",
         "74.69",
         "Alex",
         "14.874001470588235",
         "54.78085294117648"
        ],
        [
         "1",
         "3.82",
         "15.28",
         "Giza",
         "16.05236737804878",
         "56.609024390243896"
        ],
        [
         "2",
         "16.2155",
         "46.33",
         "Alex",
         "14.874001470588235",
         "54.78085294117648"
        ],
        [
         "3",
         "23.288",
         "58.22",
         "Alex",
         "14.874001470588235",
         "54.78085294117648"
        ],
        [
         "4",
         "30.2085",
         "86.31",
         "Alex",
         "14.874001470588235",
         "54.78085294117648"
        ],
        [
         "5",
         "29.8865",
         "85.39",
         "Giza",
         "16.05236737804878",
         "56.609024390243896"
        ],
        [
         "6",
         "20.652",
         "68.84",
         "Alex",
         "14.874001470588235",
         "54.78085294117648"
        ],
        [
         "7",
         "36.78",
         "73.56",
         "Giza",
         "16.05236737804878",
         "56.609024390243896"
        ],
        [
         "8",
         "3.626",
         "36.26",
         "Alex",
         "14.874001470588235",
         "54.78085294117648"
        ],
        [
         "9",
         "8.226",
         "54.84",
         "Cairo",
         "15.232024096385542",
         "55.65927710843374"
        ],
        [
         "10",
         "2.896",
         "14.48",
         "Cairo",
         "15.232024096385542",
         "55.65927710843374"
        ],
        [
         "11",
         "5.102",
         "25.51",
         "Cairo",
         "15.232024096385542",
         "55.65927710843374"
        ],
        [
         "12",
         "11.7375",
         "46.95",
         "Alex",
         "14.874001470588235",
         "54.78085294117648"
        ],
        [
         "13",
         "21.595",
         "43.19",
         "Alex",
         "14.874001470588235",
         "54.78085294117648"
        ],
        [
         "14",
         "35.69",
         "71.38",
         "Alex",
         "14.874001470588235",
         "54.78085294117648"
        ],
        [
         "15",
         "28.116",
         "93.72",
         "Cairo",
         "15.232024096385542",
         "55.65927710843374"
        ],
        [
         "16",
         "24.1255",
         "68.93",
         "Alex",
         "14.874001470588235",
         "54.78085294117648"
        ],
        [
         "17",
         "21.783",
         "72.61",
         "Alex",
         "14.874001470588235",
         "54.78085294117648"
        ],
        [
         "18",
         "8.2005",
         "54.67",
         "Alex",
         "14.874001470588235",
         "54.78085294117648"
        ],
        [
         "19",
         "4.03",
         "40.3",
         "Cairo",
         "15.232024096385542",
         "55.65927710843374"
        ],
        [
         "20",
         "21.51",
         "86.04",
         "Giza",
         "16.05236737804878",
         "56.609024390243896"
        ],
        [
         "21",
         "13.197",
         "87.98",
         "Cairo",
         "15.232024096385542",
         "55.65927710843374"
        ],
        [
         "22",
         "3.32",
         "33.2",
         "Cairo",
         "15.232024096385542",
         "55.65927710843374"
        ],
        [
         "23",
         "8.64",
         "34.56",
         "Alex",
         "14.874001470588235",
         "54.78085294117648"
        ],
        [
         "24",
         "13.2945",
         "88.63",
         "Alex",
         "14.874001470588235",
         "54.78085294117648"
        ],
        [
         "25",
         "21.036",
         "52.59",
         "Alex",
         "14.874001470588235",
         "54.78085294117648"
        ],
        [
         "26",
         "1.676",
         "33.52",
         "Cairo",
         "15.232024096385542",
         "55.65927710843374"
        ],
        [
         "27",
         "8.767",
         "87.67",
         "Alex",
         "14.874001470588235",
         "54.78085294117648"
        ],
        [
         "28",
         "22.09",
         "88.36",
         "Cairo",
         "15.232024096385542",
         "55.65927710843374"
        ],
        [
         "29",
         "11.2005",
         "24.89",
         "Alex",
         "14.874001470588235",
         "54.78085294117648"
        ],
        [
         "30",
         "23.5325",
         "94.13",
         "Cairo",
         "15.232024096385542",
         "55.65927710843374"
        ],
        [
         "31",
         "35.1315",
         "78.07",
         "Cairo",
         "15.232024096385542",
         "55.65927710843374"
        ],
        [
         "32",
         "33.512",
         "83.78",
         "Cairo",
         "15.232024096385542",
         "55.65927710843374"
        ],
        [
         "33",
         "9.658",
         "96.58",
         "Alex",
         "14.874001470588235",
         "54.78085294117648"
        ],
        [
         "34",
         "19.884",
         "99.42",
         "Giza",
         "16.05236737804878",
         "56.609024390243896"
        ],
        [
         "35",
         "3.406",
         "68.12",
         "Giza",
         "16.05236737804878",
         "56.609024390243896"
        ],
        [
         "36",
         "15.655",
         "62.62",
         "Alex",
         "14.874001470588235",
         "54.78085294117648"
        ],
        [
         "37",
         "27.396",
         "60.88",
         "Alex",
         "14.874001470588235",
         "54.78085294117648"
        ],
        [
         "38",
         "21.968",
         "54.92",
         "Giza",
         "16.05236737804878",
         "56.609024390243896"
        ],
        [
         "39",
         "12.048",
         "30.12",
         "Cairo",
         "15.232024096385542",
         "55.65927710843374"
        ],
        [
         "40",
         "4.336",
         "86.72",
         "Cairo",
         "15.232024096385542",
         "55.65927710843374"
        ],
        [
         "41",
         "5.611",
         "56.11",
         "Giza",
         "16.05236737804878",
         "56.609024390243896"
        ],
        [
         "42",
         "20.736",
         "69.12",
         "Cairo",
         "15.232024096385542",
         "55.65927710843374"
        ],
        [
         "43",
         "39.48",
         "98.7",
         "Giza",
         "16.05236737804878",
         "56.609024390243896"
        ],
        [
         "44",
         "1.537",
         "15.37",
         "Giza",
         "16.05236737804878",
         "56.609024390243896"
        ],
        [
         "45",
         "18.792",
         "93.96",
         "Cairo",
         "15.232024096385542",
         "55.65927710843374"
        ],
        [
         "46",
         "25.5105",
         "56.69",
         "Cairo",
         "15.232024096385542",
         "55.65927710843374"
        ],
        [
         "47",
         "9.0045",
         "20.01",
         "Cairo",
         "15.232024096385542",
         "55.65927710843374"
        ],
        [
         "48",
         "5.679",
         "18.93",
         "Cairo",
         "15.232024096385542",
         "55.65927710843374"
        ],
        [
         "49",
         "41.315",
         "82.63",
         "Giza",
         "16.05236737804878",
         "56.609024390243896"
        ]
       ],
       "shape": {
        "columns": 5,
        "rows": 1000
       }
      },
      "text/html": [
       "<div>\n",
       "<style scoped>\n",
       "    .dataframe tbody tr th:only-of-type {\n",
       "        vertical-align: middle;\n",
       "    }\n",
       "\n",
       "    .dataframe tbody tr th {\n",
       "        vertical-align: top;\n",
       "    }\n",
       "\n",
       "    .dataframe thead th {\n",
       "        text-align: right;\n",
       "    }\n",
       "</style>\n",
       "<table border=\"1\" class=\"dataframe\">\n",
       "  <thead>\n",
       "    <tr style=\"text-align: right;\">\n",
       "      <th></th>\n",
       "      <th>Tax 5%</th>\n",
       "      <th>Unit price</th>\n",
       "      <th>Branch</th>\n",
       "      <th>tax_branch_mean</th>\n",
       "      <th>unit_price_mean</th>\n",
       "    </tr>\n",
       "  </thead>\n",
       "  <tbody>\n",
       "    <tr>\n",
       "      <th>0</th>\n",
       "      <td>26.1415</td>\n",
       "      <td>74.69</td>\n",
       "      <td>Alex</td>\n",
       "      <td>14.874001</td>\n",
       "      <td>54.780853</td>\n",
       "    </tr>\n",
       "    <tr>\n",
       "      <th>1</th>\n",
       "      <td>3.8200</td>\n",
       "      <td>15.28</td>\n",
       "      <td>Giza</td>\n",
       "      <td>16.052367</td>\n",
       "      <td>56.609024</td>\n",
       "    </tr>\n",
       "    <tr>\n",
       "      <th>2</th>\n",
       "      <td>16.2155</td>\n",
       "      <td>46.33</td>\n",
       "      <td>Alex</td>\n",
       "      <td>14.874001</td>\n",
       "      <td>54.780853</td>\n",
       "    </tr>\n",
       "    <tr>\n",
       "      <th>3</th>\n",
       "      <td>23.2880</td>\n",
       "      <td>58.22</td>\n",
       "      <td>Alex</td>\n",
       "      <td>14.874001</td>\n",
       "      <td>54.780853</td>\n",
       "    </tr>\n",
       "    <tr>\n",
       "      <th>4</th>\n",
       "      <td>30.2085</td>\n",
       "      <td>86.31</td>\n",
       "      <td>Alex</td>\n",
       "      <td>14.874001</td>\n",
       "      <td>54.780853</td>\n",
       "    </tr>\n",
       "    <tr>\n",
       "      <th>...</th>\n",
       "      <td>...</td>\n",
       "      <td>...</td>\n",
       "      <td>...</td>\n",
       "      <td>...</td>\n",
       "      <td>...</td>\n",
       "    </tr>\n",
       "    <tr>\n",
       "      <th>995</th>\n",
       "      <td>2.0175</td>\n",
       "      <td>40.35</td>\n",
       "      <td>Giza</td>\n",
       "      <td>16.052367</td>\n",
       "      <td>56.609024</td>\n",
       "    </tr>\n",
       "    <tr>\n",
       "      <th>996</th>\n",
       "      <td>48.6900</td>\n",
       "      <td>97.38</td>\n",
       "      <td>Cairo</td>\n",
       "      <td>15.232024</td>\n",
       "      <td>55.659277</td>\n",
       "    </tr>\n",
       "    <tr>\n",
       "      <th>997</th>\n",
       "      <td>1.5920</td>\n",
       "      <td>31.84</td>\n",
       "      <td>Alex</td>\n",
       "      <td>14.874001</td>\n",
       "      <td>54.780853</td>\n",
       "    </tr>\n",
       "    <tr>\n",
       "      <th>998</th>\n",
       "      <td>3.2910</td>\n",
       "      <td>65.82</td>\n",
       "      <td>Alex</td>\n",
       "      <td>14.874001</td>\n",
       "      <td>54.780853</td>\n",
       "    </tr>\n",
       "    <tr>\n",
       "      <th>999</th>\n",
       "      <td>30.9190</td>\n",
       "      <td>88.34</td>\n",
       "      <td>Alex</td>\n",
       "      <td>14.874001</td>\n",
       "      <td>54.780853</td>\n",
       "    </tr>\n",
       "  </tbody>\n",
       "</table>\n",
       "<p>1000 rows × 5 columns</p>\n",
       "</div>"
      ],
      "text/plain": [
       "      Tax 5%  Unit price Branch  tax_branch_mean  unit_price_mean\n",
       "0    26.1415       74.69   Alex        14.874001        54.780853\n",
       "1     3.8200       15.28   Giza        16.052367        56.609024\n",
       "2    16.2155       46.33   Alex        14.874001        54.780853\n",
       "3    23.2880       58.22   Alex        14.874001        54.780853\n",
       "4    30.2085       86.31   Alex        14.874001        54.780853\n",
       "..       ...         ...    ...              ...              ...\n",
       "995   2.0175       40.35   Giza        16.052367        56.609024\n",
       "996  48.6900       97.38  Cairo        15.232024        55.659277\n",
       "997   1.5920       31.84   Alex        14.874001        54.780853\n",
       "998   3.2910       65.82   Alex        14.874001        54.780853\n",
       "999  30.9190       88.34   Alex        14.874001        54.780853\n",
       "\n",
       "[1000 rows x 5 columns]"
      ]
     },
     "execution_count": 6,
     "metadata": {},
     "output_type": "execute_result"
    }
   ],
   "source": [
    "df[['Tax 5%', 'Unit price', 'Branch', 'tax_branch_mean', 'unit_price_mean']]"
   ]
  },
  {
   "cell_type": "markdown",
   "id": "7ab281ee",
   "metadata": {},
   "source": [
    "## But why is all of this necessary?\n",
    "\n",
    "Aren't good models designed to take aggregation into account? To an extent, yes, but not always. It depends a lot on the size and dimensionality of your dataset. The larger the dataset, the more features (by several orders of magnitude) you can create. When there are too many features, the model has too many competing signals to predict the target variable.\n",
    "\n",
    "Feature engineering tries to explicitly focus the model's attention on certain features. To summarize, feature engineering is not about creating \"new\" information, but rather directing and/or focusing the model's attention on certain information, that you as the data scientist judge to be important."
   ]
  },
  {
   "cell_type": "markdown",
   "id": "4ef43020",
   "metadata": {},
   "source": [
    "# Indicator Variables and Interaction Terms\n",
    "\n",
    "Following the same patten of thinking as numeric aggregations, we can construct indicator variables and interaction terms.\n",
    "\n",
    "**Indicator variables** only take on the value 0 or 1 to indicate the absence or presence of some information.\n",
    "\n",
    "For example, we're about to define an indicator variable `unit_price_50` to indicate if the product has unit price greater than 50. To put it into perspective, think of an e-commerce store having free shipping on all orders above $50; this may be useful information in predicting customer behavior and worth an explicit definition for the model.\n",
    "\n",
    "**Interaction terms** are created base on the presence of interaction effects between two or more variables. This is largely driven by domain expertise, although there are statistical tests to help determine them (beyond the scope of this article. Definitely investigate this in-depth later). For example, while free shipping may affect customer rating, free shipping combined with quantity may have a different effect on customer rating, which would be useful to encode (assuming customer rating is the target variable in this case). Below we define the variable `unit_price_50 * qty` to be exactly that.\n",
    "\n",
    "We use `np.where()` to create an indicator variable `unit_price_50` that encodes 1 when unit price is above 50 and 0 otherwise."
   ]
  },
  {
   "cell_type": "code",
   "execution_count": 7,
   "id": "f68fafbf",
   "metadata": {},
   "outputs": [
    {
     "data": {
      "application/vnd.microsoft.datawrangler.viewer.v0+json": {
       "columns": [
        {
         "name": "index",
         "rawType": "int64",
         "type": "integer"
        },
        {
         "name": "Invoice ID",
         "rawType": "object",
         "type": "string"
        },
        {
         "name": "unit_price_50",
         "rawType": "int64",
         "type": "integer"
        },
        {
         "name": "unit_price_50 * qty",
         "rawType": "int64",
         "type": "integer"
        }
       ],
       "ref": "4965d104-312e-40d0-b2a9-1035d8e07426",
       "rows": [
        [
         "0",
         "750-67-8428",
         "1",
         "7"
        ],
        [
         "1",
         "226-31-3081",
         "0",
         "0"
        ],
        [
         "2",
         "631-41-3108",
         "0",
         "0"
        ],
        [
         "3",
         "123-19-1176",
         "1",
         "8"
        ],
        [
         "4",
         "373-73-7910",
         "1",
         "7"
        ]
       ],
       "shape": {
        "columns": 3,
        "rows": 5
       }
      },
      "text/html": [
       "<div>\n",
       "<style scoped>\n",
       "    .dataframe tbody tr th:only-of-type {\n",
       "        vertical-align: middle;\n",
       "    }\n",
       "\n",
       "    .dataframe tbody tr th {\n",
       "        vertical-align: top;\n",
       "    }\n",
       "\n",
       "    .dataframe thead th {\n",
       "        text-align: right;\n",
       "    }\n",
       "</style>\n",
       "<table border=\"1\" class=\"dataframe\">\n",
       "  <thead>\n",
       "    <tr style=\"text-align: right;\">\n",
       "      <th></th>\n",
       "      <th>Invoice ID</th>\n",
       "      <th>unit_price_50</th>\n",
       "      <th>unit_price_50 * qty</th>\n",
       "    </tr>\n",
       "  </thead>\n",
       "  <tbody>\n",
       "    <tr>\n",
       "      <th>0</th>\n",
       "      <td>750-67-8428</td>\n",
       "      <td>1</td>\n",
       "      <td>7</td>\n",
       "    </tr>\n",
       "    <tr>\n",
       "      <th>1</th>\n",
       "      <td>226-31-3081</td>\n",
       "      <td>0</td>\n",
       "      <td>0</td>\n",
       "    </tr>\n",
       "    <tr>\n",
       "      <th>2</th>\n",
       "      <td>631-41-3108</td>\n",
       "      <td>0</td>\n",
       "      <td>0</td>\n",
       "    </tr>\n",
       "    <tr>\n",
       "      <th>3</th>\n",
       "      <td>123-19-1176</td>\n",
       "      <td>1</td>\n",
       "      <td>8</td>\n",
       "    </tr>\n",
       "    <tr>\n",
       "      <th>4</th>\n",
       "      <td>373-73-7910</td>\n",
       "      <td>1</td>\n",
       "      <td>7</td>\n",
       "    </tr>\n",
       "  </tbody>\n",
       "</table>\n",
       "</div>"
      ],
      "text/plain": [
       "    Invoice ID  unit_price_50  unit_price_50 * qty\n",
       "0  750-67-8428              1                    7\n",
       "1  226-31-3081              0                    0\n",
       "2  631-41-3108              0                    0\n",
       "3  123-19-1176              1                    8\n",
       "4  373-73-7910              1                    7"
      ]
     },
     "execution_count": 7,
     "metadata": {},
     "output_type": "execute_result"
    }
   ],
   "source": [
    "df['unit_price_50'] = np.where(df['Unit price'] > 50, 1, 0)\n",
    "df['unit_price_50 * qty'] = df['unit_price_50'] * df['Quantity']\n",
    "\n",
    "df[['Invoice ID', 'unit_price_50', 'unit_price_50 * qty']].head()"
   ]
  },
  {
   "cell_type": "markdown",
   "id": "8da80f3c",
   "metadata": {},
   "source": [
    "# Numeric Transformations\n",
    "\n",
    "Some data scientists don't consider numeric transformations to fall under feature engineering. This is because many models, especially the newer ones like tree-based models, aren't impacted by these transformations. In other words, performing these transformations does nothing to improve predictive performance. But for other models such as linear regression, these transformations can make a big difference as they are sensitive to the scale of their variables.\n",
    "\n",
    "Below we construct a new variable `log_cogs` to correct for the right skew in the variable `cogs`. The effect is shown in the plots below.\n",
    "\n",
    "We can also do other transformations such as squaring a variable if we believe the relationship between a predictor and target variable is not linear, but quadratic in nature.\n",
    "\n",
    "We can even have cubed variables or any n degree polynomial term."
   ]
  },
  {
   "cell_type": "code",
   "execution_count": 8,
   "id": "38a668f9",
   "metadata": {},
   "outputs": [
    {
     "data": {
      "application/vnd.microsoft.datawrangler.viewer.v0+json": {
       "columns": [
        {
         "name": "index",
         "rawType": "int64",
         "type": "integer"
        },
        {
         "name": "cogs",
         "rawType": "float64",
         "type": "float"
        },
        {
         "name": "log_cogs",
         "rawType": "float64",
         "type": "float"
        },
        {
         "name": "gross income",
         "rawType": "float64",
         "type": "float"
        },
        {
         "name": "gross income squared",
         "rawType": "float64",
         "type": "float"
        }
       ],
       "ref": "adfcebc0-447b-4dbc-8ddc-ce73146e7a66",
       "rows": [
        [
         "0",
         "522.83",
         "6.261167204202146",
         "26.1415",
         "683.3780222500001"
        ],
        [
         "1",
         "76.4",
         "4.3489867805956814",
         "3.82",
         "14.5924"
        ],
        [
         "2",
         "324.31",
         "5.784778573861411",
         "16.2155",
         "262.94244024999995"
        ],
        [
         "3",
         "465.76",
         "6.145815206937907",
         "23.288",
         "542.330944"
        ],
        [
         "4",
         "604.17",
         "6.405509410295594",
         "30.2085",
         "912.55347225"
        ]
       ],
       "shape": {
        "columns": 4,
        "rows": 5
       }
      },
      "text/html": [
       "<div>\n",
       "<style scoped>\n",
       "    .dataframe tbody tr th:only-of-type {\n",
       "        vertical-align: middle;\n",
       "    }\n",
       "\n",
       "    .dataframe tbody tr th {\n",
       "        vertical-align: top;\n",
       "    }\n",
       "\n",
       "    .dataframe thead th {\n",
       "        text-align: right;\n",
       "    }\n",
       "</style>\n",
       "<table border=\"1\" class=\"dataframe\">\n",
       "  <thead>\n",
       "    <tr style=\"text-align: right;\">\n",
       "      <th></th>\n",
       "      <th>cogs</th>\n",
       "      <th>log_cogs</th>\n",
       "      <th>gross income</th>\n",
       "      <th>gross income squared</th>\n",
       "    </tr>\n",
       "  </thead>\n",
       "  <tbody>\n",
       "    <tr>\n",
       "      <th>0</th>\n",
       "      <td>522.83</td>\n",
       "      <td>6.261167</td>\n",
       "      <td>26.1415</td>\n",
       "      <td>683.378022</td>\n",
       "    </tr>\n",
       "    <tr>\n",
       "      <th>1</th>\n",
       "      <td>76.40</td>\n",
       "      <td>4.348987</td>\n",
       "      <td>3.8200</td>\n",
       "      <td>14.592400</td>\n",
       "    </tr>\n",
       "    <tr>\n",
       "      <th>2</th>\n",
       "      <td>324.31</td>\n",
       "      <td>5.784779</td>\n",
       "      <td>16.2155</td>\n",
       "      <td>262.942440</td>\n",
       "    </tr>\n",
       "    <tr>\n",
       "      <th>3</th>\n",
       "      <td>465.76</td>\n",
       "      <td>6.145815</td>\n",
       "      <td>23.2880</td>\n",
       "      <td>542.330944</td>\n",
       "    </tr>\n",
       "    <tr>\n",
       "      <th>4</th>\n",
       "      <td>604.17</td>\n",
       "      <td>6.405509</td>\n",
       "      <td>30.2085</td>\n",
       "      <td>912.553472</td>\n",
       "    </tr>\n",
       "  </tbody>\n",
       "</table>\n",
       "</div>"
      ],
      "text/plain": [
       "     cogs  log_cogs  gross income  gross income squared\n",
       "0  522.83  6.261167       26.1415            683.378022\n",
       "1   76.40  4.348987        3.8200             14.592400\n",
       "2  324.31  5.784779       16.2155            262.942440\n",
       "3  465.76  6.145815       23.2880            542.330944\n",
       "4  604.17  6.405509       30.2085            912.553472"
      ]
     },
     "execution_count": 8,
     "metadata": {},
     "output_type": "execute_result"
    }
   ],
   "source": [
    "df['log_cogs'] = np.log(df['cogs'] + 1)\n",
    "df['gross income squared'] = np.square(df['gross income'])\n",
    "\n",
    "df[['cogs', 'log_cogs', 'gross income', 'gross income squared']].head()"
   ]
  },
  {
   "cell_type": "code",
   "execution_count": 9,
   "id": "8e5045b4",
   "metadata": {},
   "outputs": [
    {
     "data": {
      "text/plain": [
       "<Axes: xlabel='log_cogs', ylabel='Count'>"
      ]
     },
     "execution_count": 9,
     "metadata": {},
     "output_type": "execute_result"
    },
    {
     "data": {
      "image/png": "[encoded data removed]",
      "text/plain": [
       "<Figure size 1500x600 with 2 Axes>"
      ]
     },
     "metadata": {},
     "output_type": "display_data"
    }
   ],
   "source": [
    "fig, (ax1, ax2) = plt.subplots(1, 2, figsize=(15,6))\n",
    "\n",
    "sns.histplot(df['cogs'], ax=ax1, kde=True)\n",
    "sns.histplot(df['log_cogs'], ax=ax2, kde=True)"
   ]
  },
  {
   "cell_type": "code",
   "execution_count": null,
   "id": "05aa0d55",
   "metadata": {},
   "outputs": [],
   "source": []
  }
 ],
 "metadata": {
  "kernelspec": {
   "display_name": "feat-env",
   "language": "python",
   "name": "python3"
  },
  "language_info": {
   "codemirror_mode": {
    "name": "ipython",
    "version": 3
   },
   "file_extension": ".py",
   "mimetype": "text/x-python",
   "name": "python",
   "nbconvert_exporter": "python",
   "pygments_lexer": "ipython3",
   "version": "3.13.9"
  }
 },
 "nbformat": 4,
 "nbformat_minor": 5
}
